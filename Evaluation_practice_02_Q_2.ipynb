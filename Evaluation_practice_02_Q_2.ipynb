{
  "nbformat": 4,
  "nbformat_minor": 0,
  "metadata": {
    "colab": {
      "provenance": [],
      "authorship_tag": "ABX9TyM+rxge9uFvea1IN9lhP2FR",
      "include_colab_link": true
    },
    "kernelspec": {
      "name": "python3",
      "display_name": "Python 3"
    },
    "language_info": {
      "name": "python"
    }
  },
  "cells": [
    {
      "cell_type": "markdown",
      "metadata": {
        "id": "view-in-github",
        "colab_type": "text"
      },
      "source": [
        "<a href=\"https://colab.research.google.com/github/shakil1819/CSE442-Machine-Learning-Sessional/blob/main/Evaluation_practice_02_Q_2.ipynb\" target=\"_parent\"><img src=\"https://colab.research.google.com/assets/colab-badge.svg\" alt=\"Open In Colab\"/></a>"
      ]
    },
    {
      "cell_type": "markdown",
      "source": [
        "# Decision Tree Classifier\n",
        "\n",
        "\n",
        "```\n",
        " tutorial link : https://www.datacamp.com/tutorial/decision-tree-classification-python\n",
        "```\n",
        "\n"
      ],
      "metadata": {
        "id": "61wUsUiLp_H2"
      }
    },
    {
      "cell_type": "code",
      "source": [],
      "metadata": {
        "id": "g5pA6xk2qBii"
      },
      "execution_count": null,
      "outputs": []
    }
  ]
}