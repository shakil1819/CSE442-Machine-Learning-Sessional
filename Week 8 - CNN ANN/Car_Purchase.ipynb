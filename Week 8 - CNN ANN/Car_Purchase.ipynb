{
  "nbformat": 4,
  "nbformat_minor": 0,
  "metadata": {
    "colab": {
      "provenance": [],
      "mount_file_id": "1t8sBWjrFzd-0wSiYQlSNCrrckhoD_3-t",
      "authorship_tag": "ABX9TyPepoMqBgnTKzk/pBiGTkFa",
      "include_colab_link": true
    },
    "kernelspec": {
      "name": "python3",
      "display_name": "Python 3"
    },
    "language_info": {
      "name": "python"
    }
  },
  "cells": [
    {
      "cell_type": "markdown",
      "metadata": {
        "id": "view-in-github",
        "colab_type": "text"
      },
      "source": [
        "<a href=\"https://colab.research.google.com/github/shakil1819/CSE442-Machine-Learning-Sessional/blob/main/Week%208%20-%20CNN%20ANN/Car_Purchase.ipynb\" target=\"_parent\"><img src=\"https://colab.research.google.com/assets/colab-badge.svg\" alt=\"Open In Colab\"/></a>"
      ]
    },
    {
      "cell_type": "code",
      "execution_count": null,
      "metadata": {
        "id": "zlN1M56w_71A"
      },
      "outputs": [],
      "source": [
        "#Dataset : https://raw.githubusercontent.com/shakil1819/CSE442-Machine-Learning-Sessional/main/Week%208%20-%20CNN%20ANN/car_purchasing.csv"
      ]
    },
    {
      "cell_type": "markdown",
      "source": [
        "### Notes\n",
        "- AI is the simulation of human intelligence processes by reaction,expecially computer systems\n",
        "- ML is the study that uses statistical methods to enable machines to improve with experience\n",
        "- DL is a subset of ML, which is a subset of AI DL uses Neural Networks(Similar to neurons of brain) to imitate functionalities just like a human brain\n",
        "- DL+Linguistics+NLP+CS = ChatGPT\n",
        "\n",
        "- ![ANN-DL-ML relation](https://drive.google.com/uc?id=1-90IdtkzRla8CcLMQqvMTtjws5xv6xsv)"
      ],
      "metadata": {
        "id": "aXi98-loAhu0"
      }
    },
    {
      "cell_type": "markdown",
      "source": [
        "### Neuron Comparison\n",
        "- Dendrite =Input\n",
        "- Soma = cell body (Calculation)\n",
        "- Axon = Receives  Results\n",
        "- Axon Terminals = Info will be received by another neuron .For the 1st neuron It will be Output but for 2nd one it will be input. Like this way a network is  created from lots of neuron.\n"
      ],
      "metadata": {
        "id": "SE-8kzPpCxFG"
      }
    },
    {
      "cell_type": "markdown",
      "source": [
        "# ANN (Artificial Neural Network)\n",
        "- ![Note](https://drive.google.com/uc?id=1H2gCyt0TE4FowlC31qzfdT_10E6w2CG4)"
      ],
      "metadata": {
        "id": "spCP_CWYHUrB"
      }
    }
  ]
}