{
  "nbformat": 4,
  "nbformat_minor": 0,
  "metadata": {
    "colab": {
      "provenance": [],
      "authorship_tag": "ABX9TyNsjPICwPlea91UjUskDFQ1",
      "include_colab_link": true
    },
    "kernelspec": {
      "name": "python3",
      "display_name": "Python 3"
    },
    "language_info": {
      "name": "python"
    }
  },
  "cells": [
    {
      "cell_type": "markdown",
      "metadata": {
        "id": "view-in-github",
        "colab_type": "text"
      },
      "source": [
        "<a href=\"https://colab.research.google.com/github/shakil1819/CSE442-Machine-Learning-Sessional/blob/main/Week%208%20-%20CNN%20ANN/Car_Purchase.ipynb\" target=\"_parent\"><img src=\"https://colab.research.google.com/assets/colab-badge.svg\" alt=\"Open In Colab\"/></a>"
      ]
    },
    {
      "cell_type": "code",
      "execution_count": null,
      "metadata": {
        "id": "zlN1M56w_71A"
      },
      "outputs": [],
      "source": [
        "#Dataset : https://raw.githubusercontent.com/shakil1819/CSE442-Machine-Learning-Sessional/main/Week%208%20-%20CNN%20ANN/car_purchasing.csv\n"
      ]
    }
  ]
}